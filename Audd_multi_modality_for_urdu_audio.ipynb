{
  "nbformat": 4,
  "nbformat_minor": 0,
  "metadata": {
    "colab": {
      "name": "Audd multi-modality for urdu audio.ipynb",
      "provenance": [],
      "collapsed_sections": [],
      "authorship_tag": "ABX9TyO83bjSsq2BfP+u2i6m1dba",
      "include_colab_link": true
    },
    "kernelspec": {
      "name": "python3",
      "display_name": "Python 3"
    },
    "language_info": {
      "name": "python"
    }
  },
  "cells": [
    {
      "cell_type": "markdown",
      "metadata": {
        "id": "view-in-github",
        "colab_type": "text"
      },
      "source": [
        "<a href=\"https://colab.research.google.com/github/turab45/Audd-multi-modality-for-urdu-audio/blob/master/Audd_multi_modality_for_urdu_audio.ipynb\" target=\"_parent\"><img src=\"https://colab.research.google.com/assets/colab-badge.svg\" alt=\"Open In Colab\"/></a>"
      ]
    },
    {
      "cell_type": "code",
      "execution_count": 2,
      "metadata": {
        "colab": {
          "base_uri": "https://localhost:8080/"
        },
        "id": "rcHdBfeFdC47",
        "outputId": "555ddd9a-48ba-469c-d77c-b932673fdbff"
      },
      "outputs": [
        {
          "output_type": "stream",
          "name": "stdout",
          "text": [
            "Mounted at /content/drive\n"
          ]
        }
      ],
      "source": [
        "import matplotlib.pyplot as plt\n",
        "from scipy import signal\n",
        "from scipy.io import wavfile\n",
        "import os\n",
        "import numpy as np\n",
        "import librosa\n",
        "import librosa.display\n",
        "import matplotlib.pyplot as plt\n",
        "import numpy as np\n",
        "import cv2\n",
        "import warnings\n",
        "warnings.filterwarnings(\"ignore\")\n",
        "\n",
        "from google.colab import drive\n",
        "drive.mount('/content/drive')"
      ]
    },
    {
      "cell_type": "code",
      "source": [
        "!unzip '/content/drive/MyDrive/dataset_old.zip' -d '/content/'\n",
        "#!git clone https://github.com/Nikunj1729/free-spoken-gujarati-digit-dataset"
      ],
      "metadata": {
        "id": "T7tEtjoDeDkE"
      },
      "execution_count": null,
      "outputs": []
    },
    {
      "cell_type": "code",
      "source": [
        "# Feature extraction methods\n",
        "\n",
        "def CalculateMelSpectrogram(file_location):\n",
        "    y, sr = librosa.load(file_location)\n",
        "    melSpec = librosa.feature.melspectrogram(y=y, sr=sr)\n",
        "    melSpec_dB = librosa.power_to_db(melSpec)\n",
        "    dim = (32, 32)\n",
        "    resized = cv2.resize(melSpec_dB, dim, interpolation = cv2.INTER_AREA)\n",
        "    return resized"
      ],
      "metadata": {
        "id": "wSSuTUoKdZYD"
      },
      "execution_count": 94,
      "outputs": []
    },
    {
      "cell_type": "code",
      "source": [
        "cd /content"
      ],
      "metadata": {
        "colab": {
          "base_uri": "https://localhost:8080/"
        },
        "id": "7gQiVbsAfsgj",
        "outputId": "2134c1d0-cd91-4017-a45d-599a9dca2c98"
      },
      "execution_count": 13,
      "outputs": [
        {
          "output_type": "stream",
          "name": "stdout",
          "text": [
            "/content\n"
          ]
        }
      ]
    },
    {
      "cell_type": "code",
      "source": [
        "for i in range(10):\n",
        "  j = '/content/dataset'\n",
        "  print(os.listdir(j))\n",
        "  for k in os.listdir(j):\n",
        "    print(k)\n",
        "    if \".DS_\" in k:\n",
        "      continue\n",
        "\n",
        "    for t in os.listdir(j+\"/\"+k):\n",
        "      #print(\"path = \", os.listdir(j+\"/\"+k))\n",
        "      if \".DS_\" in k:\n",
        "        continue \n",
        "      print(t.split(\"WA\")[1].split(\".\")[0])\n",
        "      #print(t.split(\"D\")[1][0])\n",
        "      break\n",
        "    break \n",
        "  break "
      ],
      "metadata": {
        "colab": {
          "base_uri": "https://localhost:8080/"
        },
        "id": "0BZCldknfBtv",
        "outputId": "cddfe007-82ab-4bb0-a61c-82b8f5eaff74"
      },
      "execution_count": 92,
      "outputs": [
        {
          "output_type": "stream",
          "name": "stdout",
          "text": [
            "['4', '3', '7', '1', '9', '2', '0', '8', '5', '6']\n",
            "4\n",
            "2064\n"
          ]
        }
      ]
    },
    {
      "cell_type": "code",
      "source": [
        "cd free-spoken-gujarati-digit-dataset"
      ],
      "metadata": {
        "colab": {
          "base_uri": "https://localhost:8080/"
        },
        "id": "NtRjQHVRnMo3",
        "outputId": "5abd7685-91c8-4ef1-bc0f-266df535990b"
      },
      "execution_count": 28,
      "outputs": [
        {
          "output_type": "stream",
          "name": "stdout",
          "text": [
            "[Errno 2] No such file or directory: 'free-spoken-gujarati-digit-dataset/S1'\n",
            "/content/free-spoken-gujarati-digit-dataset\n"
          ]
        }
      ]
    },
    {
      "cell_type": "code",
      "source": [
        "for i in range(5):\n",
        "  j = \"R\" +str(i+1)+\" - Central Zone\"\n",
        "  print(\"path = \",j)\n",
        "  for k in os.listdir(j):\n",
        "    print(k)\n",
        "    \n",
        "    if \".DS_\" in k:\n",
        "      continue \n",
        "    for t in os.listdir(j+\"/\"+k):\n",
        "      print(\"path = \",j+\"/\"+k)\n",
        "      if \".DS_\" in t:\n",
        "        continue\n",
        "      print(t)  \n",
        "      print(t.split(\"D\"))\n",
        "      print(\"t.split(d) -> \",t.split(\"D\")) \n",
        "      print(t.split(\"D\")[1][0])\n",
        "      break\n",
        "    break \n",
        "  break "
      ],
      "metadata": {
        "colab": {
          "base_uri": "https://localhost:8080/"
        },
        "id": "cieX9f_1g4ec",
        "outputId": "1858fba3-0a55-4b74-b8c0-ca4df7ce0451"
      },
      "execution_count": 86,
      "outputs": [
        {
          "output_type": "stream",
          "name": "stdout",
          "text": [
            "path =  R1 - Central Zone\n",
            "S1\n",
            "path =  R1 - Central Zone/S1\n",
            "R1S1T2D7.wav\n",
            "['R1S1T2', '7.wav']\n",
            "t.split(d) ->  ['R1S1T2', '7.wav']\n",
            "7\n"
          ]
        }
      ]
    },
    {
      "cell_type": "code",
      "source": [
        "\n",
        "if not os.path.exists(\"processed_data\"):\n",
        "  os.mkdir(\"processed_data\")\n",
        "x=[]\n",
        "y=[]\n",
        "Total=23500\n",
        "count=0\n",
        "for i in range(10):\n",
        "  j = '/content/dataset'\n",
        "  print(os.listdir(j))\n",
        "  for k in os.listdir(j):\n",
        "    print(k)\n",
        "    if \".DS_\" in k:\n",
        "      continue\n",
        "\n",
        "    for t in os.listdir(j+\"/\"+k):\n",
        "      #print(\"path = \", os.listdir(j+\"/\"+k))\n",
        "      if \".DS_\" in k:\n",
        "        continue\n",
        "      print(count,t)\n",
        "      x.append(CalculateMelSpectrogram((j+\"/\"+k+\"/\"+t)))\n",
        "      y.append(int(t.split(\"WA\")[1].split(\".\")[0]))\n",
        "      count+=1\n",
        "    if count%300==0:\n",
        "      print(Total-count)\n",
        "  \n",
        "x=np.array(x)\n",
        "y=np.array(y)\n",
        "np.save(\"X\",x) # change these names according the feature extracted name. e.g. x_melspectrogram\n",
        "np.save(\"y\",y) # ENABLE GPU"
      ],
      "metadata": {
        "id": "GznIG9AtyP-w"
      },
      "execution_count": null,
      "outputs": []
    }
  ]
}