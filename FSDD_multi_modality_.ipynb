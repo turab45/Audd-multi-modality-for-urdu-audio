{
  "nbformat": 4,
  "nbformat_minor": 0,
  "metadata": {
    "colab": {
      "name": "FSDD multi-modality .ipynb",
      "provenance": [],
      "authorship_tag": "ABX9TyMXo69e32SLUjZaRgGOLf0H",
      "include_colab_link": true
    },
    "kernelspec": {
      "name": "python3",
      "display_name": "Python 3"
    },
    "language_info": {
      "name": "python"
    }
  },
  "cells": [
    {
      "cell_type": "markdown",
      "metadata": {
        "id": "view-in-github",
        "colab_type": "text"
      },
      "source": [
        "<a href=\"https://colab.research.google.com/github/turab45/Audd-multi-modality-for-urdu-audio/blob/master/FSDD_multi_modality_.ipynb\" target=\"_parent\"><img src=\"https://colab.research.google.com/assets/colab-badge.svg\" alt=\"Open In Colab\"/></a>"
      ]
    },
    {
      "cell_type": "code",
      "execution_count": 1,
      "metadata": {
        "colab": {
          "base_uri": "https://localhost:8080/"
        },
        "id": "22XtpXX7Q8KY",
        "outputId": "7caa3a00-a096-4604-b0b1-0db199e5dd2a"
      },
      "outputs": [
        {
          "output_type": "stream",
          "name": "stdout",
          "text": [
            "Mounted at /content/drive\n"
          ]
        }
      ],
      "source": [
        "import tensorflow as tf\n",
        "import os\n",
        "import librosa\n",
        "import cv2\n",
        "import numpy as np\n",
        "\n",
        "from google.colab import drive\n",
        "drive.mount('/content/drive')"
      ]
    },
    {
      "cell_type": "code",
      "source": [
        "!git clone https://github.com/Jakobovski/free-spoken-digit-dataset.git"
      ],
      "metadata": {
        "colab": {
          "base_uri": "https://localhost:8080/"
        },
        "id": "pKO8zajtRE7F",
        "outputId": "a4007c7e-9956-4023-d8ec-ff216fc0174b"
      },
      "execution_count": 2,
      "outputs": [
        {
          "output_type": "stream",
          "name": "stdout",
          "text": [
            "Cloning into 'free-spoken-digit-dataset'...\n",
            "remote: Enumerating objects: 4234, done.\u001b[K\n",
            "remote: Counting objects: 100% (562/562), done.\u001b[K\n",
            "remote: Compressing objects: 100% (550/550), done.\u001b[K\n",
            "remote: Total 4234 (delta 31), reused 524 (delta 12), pack-reused 3672\u001b[K\n",
            "Receiving objects: 100% (4234/4234), 30.45 MiB | 21.10 MiB/s, done.\n",
            "Resolving deltas: 100% (108/108), done.\n"
          ]
        }
      ]
    },
    {
      "cell_type": "code",
      "source": [
        "data_len = len(os.listdir('/content/free-spoken-digit-dataset/recordings'))\n",
        "print(data_len)\n",
        "\n",
        "#label = int(\"/content/free-spoken-digit-dataset/recordings/0_george_0.wav\".split(\"_\")[0])\n",
        "file = \"/content/free-spoken-digit-dataset/recordings/0_george_0.wav\"\n",
        "print(\"0_george_0.wav\".split(\"_\")[0])"
      ],
      "metadata": {
        "colab": {
          "base_uri": "https://localhost:8080/"
        },
        "id": "95wM2C2rT1Wy",
        "outputId": "d3ab5682-dc7f-4eac-c60d-1dd557af56d2"
      },
      "execution_count": null,
      "outputs": [
        {
          "output_type": "stream",
          "name": "stdout",
          "text": [
            "3000\n",
            "0\n"
          ]
        }
      ]
    },
    {
      "cell_type": "code",
      "source": [
        "# PROCESSING\n",
        "# Feature extraction methods\n",
        "\n",
        "def CalculateZeroCrossingRate(file_location):\n",
        "    y, sr = librosa.load(file_location)\n",
        "    zCross = librosa.feature.zero_crossing_rate(y=y)\n",
        "    dim = (32, 32)\n",
        "    resized = cv2.resize(zCross, dim, interpolation = cv2.INTER_AREA)\n",
        "    return resized\n",
        "\n",
        "def CalculateMelSpectrogram(file_location):\n",
        "    y, sr = librosa.load(file_location)\n",
        "    melSpec = librosa.feature.melspectrogram(y=y, sr=sr)\n",
        "    melSpec_dB = librosa.power_to_db(melSpec)\n",
        "    dim = (32, 32)\n",
        "    resized = cv2.resize(melSpec_dB, dim, interpolation = cv2.INTER_AREA)\n",
        "    return resized\n",
        "\n",
        "\n",
        "def CalculateMFCC(file_location):\n",
        "    y, sr = librosa.load(file_location)\n",
        "    melSpec = librosa.feature.mfcc(y=y, sr=sr)\n",
        "    dim = (32, 32)\n",
        "    resized = cv2.resize(melSpec, dim, interpolation = cv2.INTER_AREA)\n",
        "    return resized\n",
        "\n"
      ],
      "metadata": {
        "id": "4i7160F8UPKb"
      },
      "execution_count": null,
      "outputs": []
    },
    {
      "cell_type": "code",
      "source": [
        "files = '/kaggle/input/free-spoken-digit-dataset-fsdd/recordings/'\n",
        "ds_files = listdir(files)\n",
        "\n",
        "X = []\n",
        "y = []\n",
        "for file in ds_files:\n",
        "    label = int(file.split(\"_\")[0])\n",
        "    rate, data = wavfile.read(join(files, file))\n",
        "    X.append(data.astype(np.float16))\n",
        "    y.append(label)"
      ],
      "metadata": {
        "id": "MUFXPSH_X88X"
      },
      "execution_count": null,
      "outputs": []
    },
    {
      "cell_type": "code",
      "source": [
        "# PROCESSING\n",
        "\n",
        "files_path = '/content/drive/MyDrive/audd saved files/FSDD'\n",
        "features = ['mel_spectrogram', 'mfcc', 'zero_crossing_rate']\n",
        "\n",
        "current_feature = features[1]\n",
        "\n",
        "x=[]\n",
        "y=[]\n",
        "Total=23500\n",
        "count=0\n",
        "\n",
        "j = '/content/free-spoken-digit-dataset/recordings'\n",
        "for k in os.listdir(j):\n",
        "  #print(k.split(\"_\")[0])\n",
        "  #break\n",
        "  print(count,k)\n",
        "  x.append(CalculateMFCC(j+\"/\"+k)) #CalculateZeroCrossingRate(), CalculateMelSpectrogram(), CalculateMFCC() \n",
        "  y.append(int(k.split(\"_\")[0]))   \n",
        "  count+=1\n",
        "  if count%300==0:\n",
        "    print(Total-count)\n",
        "  \n",
        "x=np.array(x)\n",
        "y=np.array(y)\n",
        "np.save(files_path+\"/X_{}\".format(current_feature),x) # _melspectrogram, zero_crossing_rate, mfcc\n",
        "np.save(files_path+\"/y_{}\".format(current_feature),y) "
      ],
      "metadata": {
        "id": "6FNGNFhbYKuj"
      },
      "execution_count": null,
      "outputs": []
    },
    {
      "cell_type": "code",
      "source": [
        "files_path = '/content/drive/MyDrive/audd saved files/FSDD'\n",
        "\n",
        "x = np.load(files_path+\"/X_zero_crossing_rate.npy\", allow_pickle=True)\n",
        "y = np.load(files_path+\"/y_zero_crossing_rate.npy\", allow_pickle=True)\n",
        "\n",
        "from sklearn.model_selection import train_test_split\n",
        "x_train, x_test, y_train, y_test = train_test_split(x, y, test_size=0.20, random_state=42)\n",
        "np.save(files_path+\"/x_zero_crossing_rate_train\",x_train)\n",
        "np.save(files_path+\"/y_zero_crossing_rate_train\",y_train)\n",
        "np.save(files_path+\"/x_zero_crossing_rate_test\",x_test)\n",
        "np.save(files_path+\"/y_zero_crossing_rate_test\",y_test)\n",
        "\n",
        "# Dono change this, not important"
      ],
      "metadata": {
        "id": "pJHxbsTiYW1P"
      },
      "execution_count": 6,
      "outputs": []
    },
    {
      "cell_type": "code",
      "source": [
        "import tensorflow as tf\n",
        "import numpy as np \n",
        "\n",
        "files_path = '/content/drive/MyDrive/audd saved files/FSDD'\n",
        "\n",
        "features = ['mel_spectrogram', 'mfcc', 'zero_crossing_rate']\n",
        "\n",
        "feature = features[1]\n",
        "print(\"Feature = \", feature)\n",
        "\n",
        "x_train = np.load(files_path+\"/x_{}_train.npy\".format(feature), allow_pickle=True)\n",
        "y_train = np.load(files_path+\"/y_{}_train.npy\".format(feature), allow_pickle=True)\n",
        "\n",
        "x_test = np.load(files_path+\"/x_{}_test.npy\".format(feature),allow_pickle=True) \n",
        "y_test = np.load(files_path+\"/y_{}_test.npy\".format(feature),allow_pickle=True)"
      ],
      "metadata": {
        "colab": {
          "base_uri": "https://localhost:8080/"
        },
        "id": "qckIFo66X2oB",
        "outputId": "2806c4ae-a33f-4b7e-b760-13c6bf5995f0"
      },
      "execution_count": 36,
      "outputs": [
        {
          "output_type": "stream",
          "name": "stdout",
          "text": [
            "Feature =  mfcc\n"
          ]
        }
      ]
    },
    {
      "cell_type": "code",
      "source": [
        "x_train =x_train.reshape((x_train.shape[0],32,32,1))\n",
        "x_test =x_test.reshape((x_test.shape[0],32,32,1))\n"
      ],
      "metadata": {
        "id": "Jnar-Hm2X2wX"
      },
      "execution_count": 37,
      "outputs": []
    },
    {
      "cell_type": "code",
      "source": [
        "# Train model\n",
        "import tensorflow as tf\n",
        "\n",
        "from tensorflow.keras import datasets, layers, models\n",
        "def GetCNN():\n",
        "  model = models.Sequential()\n",
        "  \n",
        "  model.add(layers.Conv2D(64, (3, 3), activation='relu', input_shape=(32, 32, 1)))\n",
        "  model.add(layers.MaxPooling2D((2, 2)))\n",
        "  model.add(layers.BatchNormalization())\n",
        "  \n",
        "  model.add(layers.Conv2D(64, (3, 3), activation='relu'))\n",
        "  model.add(layers.MaxPooling2D((2, 2)))\n",
        "  model.add(layers.BatchNormalization())\n",
        "\n",
        "  model.add(layers.Conv2D(64, (3, 3), activation='relu'))\n",
        "  model.add(layers.MaxPooling2D((2, 2)))\n",
        "  model.add(layers.BatchNormalization())\n",
        "\n",
        "  model.add(layers.Dropout(0.1))\n",
        "  model.add(layers.Flatten())\n",
        "  model.add(layers.Dense(256, activation='relu'))# fully connected\n",
        "  model.add(layers.Dropout(0.1))\n",
        "  model.add(layers.Dense(128, activation='relu'))\n",
        "  model.add(layers.Dropout(0.1))\n",
        "  \n",
        "  model.add(layers.Dense(10,activation='softmax', use_bias=True))\n",
        "  return model "
      ],
      "metadata": {
        "id": "W_RwidP5a76X"
      },
      "execution_count": 38,
      "outputs": []
    },
    {
      "cell_type": "code",
      "source": [
        "from sklearn.preprocessing import LabelBinarizer\n",
        "label_as_binary = LabelBinarizer()\n",
        "train_y = label_as_binary.fit_transform(y_train)\n",
        "test_y = label_as_binary.fit_transform(y_test)\n"
      ],
      "metadata": {
        "id": "C5CWkfNpa-nQ"
      },
      "execution_count": 39,
      "outputs": []
    },
    {
      "cell_type": "code",
      "source": [
        "model_path = '/content/drive/MyDrive/audd saved files/FSDD/models'\n",
        "\n",
        "from tensorflow.keras.callbacks import ModelCheckpoint\n",
        "cnn_model = GetCNN()\n",
        "print(cnn_model.summary())\n",
        "cnn_model.compile(loss  = tf.keras.losses.CategoricalCrossentropy(),\n",
        "              metrics = [\"accuracy\"],\n",
        "              optimizer = tf.keras.optimizers.Adam(learning_rate=0.01))\n",
        "callbacks = ModelCheckpoint(model_path+\"/{}_.h5\".format(feature), monitor='val_accuracy',\n",
        "                                    mode='max',\n",
        "                                    save_best_only=True,\n",
        "                                    verbose=1)\n",
        "\n",
        "history = cnn_model.fit(x_train, train_y, batch_size=64, epochs=150, verbose=1, validation_split=0.1, callbacks=[callbacks]).history\n",
        "\n",
        "\n",
        "import keras\n",
        "zcr_model = keras.models.load_model(model_path+\"/{}_.h5\".format(feature))\n",
        "print(\"Test Accuracy is \", cnn_model.evaluate(x_test,test_y)[1])\n"
      ],
      "metadata": {
        "id": "T2reOsZ0bCcG"
      },
      "execution_count": null,
      "outputs": []
    },
    {
      "cell_type": "code",
      "source": [
        "# save history\n",
        "np.save(model_path+\"/{}_history.npy\".format(feature),history)\n",
        "#print(history['accuracy'])"
      ],
      "metadata": {
        "id": "vbsFMEgEfH7X"
      },
      "execution_count": 41,
      "outputs": []
    },
    {
      "cell_type": "code",
      "source": [
        "#plot history\n",
        "import matplotlib.pylab as plt\n",
        "from matplotlib.pyplot import figure\n",
        "figure(figsize=(8, 6))\n",
        "plt.plot(history['loss'])\n",
        "plt.plot(history['val_loss'])\n",
        "plt.title('model loss')\n",
        "plt.ylabel('loss')\n",
        "plt.xlabel('epoch')\n",
        "plt.legend(['train', 'test'], loc='upper left')\n",
        "plt.show()"
      ],
      "metadata": {
        "colab": {
          "base_uri": "https://localhost:8080/",
          "height": 404
        },
        "id": "1dVvtVbofOHL",
        "outputId": "18ab039e-424b-44b2-f166-4052ec798bc5"
      },
      "execution_count": 22,
      "outputs": [
        {
          "output_type": "display_data",
          "data": {
            "image/png": "[encoded data removed]",
            "text/plain": [
              "<Figure size 576x432 with 1 Axes>"
            ]
          },
          "metadata": {
            "needs_background": "light"
          }
        }
      ]
    },
    {
      "cell_type": "code",
      "source": [
        "# Accuracy plot\n",
        "plt.plot(history['accuracy'])\n",
        "plt.plot(history['val_accuracy'])\n",
        "plt.title('model accuracy')\n",
        "plt.ylabel('accuracy')\n",
        "plt.xlabel('epoch')\n",
        "plt.legend(['train', 'val'], loc='upper left')\n",
        "plt.show()"
      ],
      "metadata": {
        "colab": {
          "base_uri": "https://localhost:8080/",
          "height": 295
        },
        "id": "hiFkXro2fRnn",
        "outputId": "5c583dc5-66fb-48ce-d94e-5344a0327aaf"
      },
      "execution_count": 23,
      "outputs": [
        {
          "output_type": "display_data",
          "data": {
            "image/png": "[encoded data removed]",
            "text/plain": [
              "<Figure size 432x288 with 1 Axes>"
            ]
          },
          "metadata": {
            "needs_background": "light"
          }
        }
      ]
    },
    {
      "cell_type": "code",
      "source": [
        "# Load all models\n",
        "import keras\n",
        "model_path = '/content/drive/MyDrive/audd saved files/FSDD/models'\n",
        "features = ['mel_spectrogram', 'mfcc', 'zero_crossing_rate']\n",
        "\n",
        "feature = features[0]\n",
        "\n",
        "mp_model = keras.models.load_model(model_path+\"/{}_.h5\".format(feature))\n",
        "mfcc_model = keras.models.load_model(model_path+\"/{}_.h5\".format(feature))\n",
        "zc_model = keras.models.load_model(model_path+\"/{}_.h5\".format(feature))"
      ],
      "metadata": {
        "id": "Q5KY37wSfUzV"
      },
      "execution_count": 43,
      "outputs": []
    },
    {
      "cell_type": "code",
      "source": [
        "import numpy as np\n",
        "def ensemble_models_predictions(predictions):\n",
        "  \"\"\"\n",
        "  Parameter:\n",
        "  predictions: list of prediction\n",
        "  \"\"\"\n",
        "  ensembled_prediction = np.sum(predictions, axis=0)\n",
        "\n",
        "  return np.argmax(ensembled_prediction, axis=1)"
      ],
      "metadata": {
        "id": "DvcpwUXF3UH7"
      },
      "execution_count": 44,
      "outputs": []
    },
    {
      "cell_type": "code",
      "source": [
        "import sklearn\n",
        "import keras\n",
        "import sklearn.metrics as metrics\n",
        "models_path = '/content/drive/MyDrive/audd saved files/FSDD/models'\n",
        "\n",
        "x_test_mfcc = np.load('/content/drive/MyDrive/audd saved files/FSDD/x_mfcc_test.npy',allow_pickle=True)\n",
        "y_test_mfcc = np.load('/content/drive/MyDrive/audd saved files/FSDD/y_mfcc_test.npy',allow_pickle=True)\n",
        "\n",
        "x_test_zcr = np.load('/content/drive/MyDrive/audd saved files/FSDD/x_zero_crossing_rate_test.npy',allow_pickle=True)\n",
        "y_test_zcr = np.load('/content/drive/MyDrive/audd saved files/FSDD/y_zero_crossing_rate_test.npy',allow_pickle=True)\n",
        "\n",
        "x_test_mp = np.load('/content/drive/MyDrive/audd saved files/FSDD/x_mel_spectrogram_test.npy',allow_pickle=True)\n",
        "y_test_mp = np.load('/content/drive/MyDrive/audd saved files/FSDD/y_mel_spectrogram_test.npy',allow_pickle=True)\n",
        "\n",
        "\n",
        "mfcc_model = keras.models.load_model(models_path+\"/mfcc_.h5\")\n",
        "mp_model = keras.models.load_model(models_path+\"/mel_spectrogram_.h5\")\n",
        "zcr_model = keras.models.load_model(models_path+\"/zero_crossing_rate_.h5\")\n",
        "\n",
        "mfcc_predictions = mfcc_model.predict(x_test_mfcc,batch_size=10)\n",
        "zcr_predictions = zcr_model.predict(x_test_zcr,batch_size=10)\n",
        "mp_predictions = mp_model.predict(x_test_mp,batch_size=10)\n",
        "\n",
        "\n",
        "lists = [mp_predictions, zcr_predictions]\n",
        "\n",
        "result = ensemble_models_predictions(lists)\n",
        "\n",
        "# calculate accuracy\n",
        "\n",
        "acc = metrics.accuracy_score(y_test_zcr, result)\n",
        "print(acc)"
      ],
      "metadata": {
        "colab": {
          "base_uri": "https://localhost:8080/"
        },
        "id": "6EdEpBj53miY",
        "outputId": "3ac5ff02-575b-4463-bef3-1eb808c7ac65"
      },
      "execution_count": 51,
      "outputs": [
        {
          "output_type": "stream",
          "name": "stdout",
          "text": [
            "0.98\n"
          ]
        }
      ]
    }
  ]
}